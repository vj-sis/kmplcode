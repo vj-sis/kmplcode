{
 "cells": [
  {
   "cell_type": "code",
   "execution_count": 1,
   "id": "728b6e19",
   "metadata": {},
   "outputs": [],
   "source": [
    "import calculate_vehicle_vitals\n",
    "import os\n",
    "import pandas as pd\n",
    "import numpy as np\n",
    "from matplotlib import pyplot as plt\n",
    "import seaborn as sns"
   ]
  },
  {
   "cell_type": "code",
   "execution_count": 2,
   "id": "6a7679d2",
   "metadata": {},
   "outputs": [],
   "source": [
    "def create_file_dict(file_dict, filename):\n",
    "    name_split = filename.split(\"_\")\n",
    "    if name_split[0] in file_dict.keys():\n",
    "        file_dict[name_split[0]].append(filename) \n",
    "        \n",
    "    else:\n",
    "        file_dict[name_split[0]] = [filename]\n",
    "        "
   ]
  },
  {
   "cell_type": "code",
   "execution_count": 3,
   "id": "45a63f22",
   "metadata": {},
   "outputs": [
    {
     "data": {
      "text/plain": [
       "{'MB1CWKHD2LPAL6794': 'MH04KF6407',\n",
       " 'MB1CWKHD2LPBL5700': 'MH04KF6037',\n",
       " 'MB1CWKHD6LPBL5666': 'MH04KF6035'}"
      ]
     },
     "execution_count": 3,
     "metadata": {},
     "output_type": "execute_result"
    }
   ],
   "source": [
    "reg_number_index =  pd.read_excel('vin_index.xlsx')\n",
    "reg_number_index.vin.to_list()\n",
    "reg_number_dict = {}\n",
    "for index, row in reg_number_index.iterrows():\n",
    "    reg_number_dict[row.vin] = row.reg_number\n",
    "\n",
    "reg_number_dict"
   ]
  },
  {
   "cell_type": "code",
   "execution_count": 4,
   "id": "b3f00b41",
   "metadata": {},
   "outputs": [],
   "source": [
    "file_names = os.listdir()\n",
    "file_dict = {}\n",
    "reg_numbers_dict = {}\n",
    "for file in file_names:\n",
    "    if (file[-10:] == \"input.xlsx\"):        \n",
    "        create_file_dict(file_dict, file)"
   ]
  },
  {
   "cell_type": "code",
   "execution_count": 5,
   "id": "5afb9c4f",
   "metadata": {},
   "outputs": [
    {
     "data": {
      "text/plain": [
       "{'MB1CWKHD2LPAL6794': ['MB1CWKHD2LPAL6794_input.xlsx'],\n",
       " 'MB1CWKHD2LPBL5700': ['MB1CWKHD2LPBL5700_input.xlsx'],\n",
       " 'MB1CWKHD6LPBL5666': ['MB1CWKHD6LPBL5666_input.xlsx']}"
      ]
     },
     "execution_count": 5,
     "metadata": {},
     "output_type": "execute_result"
    }
   ],
   "source": [
    "file_dict"
   ]
  },
  {
   "cell_type": "code",
   "execution_count": null,
   "id": "f21e3406",
   "metadata": {},
   "outputs": [],
   "source": []
  },
  {
   "cell_type": "code",
   "execution_count": 6,
   "id": "f368ac13",
   "metadata": {},
   "outputs": [
    {
     "name": "stdout",
     "output_type": "stream",
     "text": [
      "MB1CWKHD2LPAL6794\n"
     ]
    },
    {
     "name": "stderr",
     "output_type": "stream",
     "text": [
      "D:\\OneDrive - Ashok Leyland Ltd\\Documents\\Parasmani\\1-4DEC\\calculate_vehicle_vitals.py:49: SettingWithCopyWarning: \n",
      "A value is trying to be set on a copy of a slice from a DataFrame.\n",
      "Try using .loc[row_indexer,col_indexer] = value instead\n",
      "\n",
      "See the caveats in the documentation: https://pandas.pydata.org/pandas-docs/stable/user_guide/indexing.html#returning-a-view-versus-a-copy\n",
      "  data['distance_covered'] = data['vehicle_odometer'] - data.shift(1)['vehicle_odometer']\n",
      "D:\\OneDrive - Ashok Leyland Ltd\\Documents\\Parasmani\\1-4DEC\\calculate_vehicle_vitals.py:50: SettingWithCopyWarning: \n",
      "A value is trying to be set on a copy of a slice from a DataFrame\n",
      "\n",
      "See the caveats in the documentation: https://pandas.pydata.org/pandas-docs/stable/user_guide/indexing.html#returning-a-view-versus-a-copy\n",
      "  data.replace(np.nan,0, inplace = True )\n",
      "D:\\OneDrive - Ashok Leyland Ltd\\Documents\\Parasmani\\1-4DEC\\calculate_vehicle_vitals.py:51: SettingWithCopyWarning: \n",
      "A value is trying to be set on a copy of a slice from a DataFrame.\n",
      "Try using .loc[row_indexer,col_indexer] = value instead\n",
      "\n",
      "See the caveats in the documentation: https://pandas.pydata.org/pandas-docs/stable/user_guide/indexing.html#returning-a-view-versus-a-copy\n",
      "  data['distance_covered'] = data.apply(lambda row: filter_km(row['distance_covered']), axis=1)\n"
     ]
    },
    {
     "name": "stdout",
     "output_type": "stream",
     "text": [
      "Distance travelled as per vehicle odo is 647.7 km\n",
      "Distance travelled as per vehicle odo is 623.9 km\n",
      "Fuel consumption is 128.5 lts\n",
      "Total active hours are 18.52 hours\n",
      "Total running hours are 15.33 hours\n",
      "Total idling hours are 1.89 hours\n",
      "Total neutral driving hours are 0.89 hours\n",
      "Total zero throttle running distance is 141.02 km\n",
      "Total day time running distance is 628.12 km\n",
      "Total night time running distance is 19.62 km\n",
      "Average speed of the vehicle is 34.98 km/h \n",
      "Total halt hours are 126.77 hrs\n",
      "Running % is 82.81 %\n",
      "Idling % is 10.23 %\n",
      "Changes applied 14/12/2022 11:36\n",
      "MB1CWKHD2LPBL5700\n"
     ]
    },
    {
     "name": "stderr",
     "output_type": "stream",
     "text": [
      "D:\\OneDrive - Ashok Leyland Ltd\\Documents\\Parasmani\\1-4DEC\\calculate_vehicle_vitals.py:49: SettingWithCopyWarning: \n",
      "A value is trying to be set on a copy of a slice from a DataFrame.\n",
      "Try using .loc[row_indexer,col_indexer] = value instead\n",
      "\n",
      "See the caveats in the documentation: https://pandas.pydata.org/pandas-docs/stable/user_guide/indexing.html#returning-a-view-versus-a-copy\n",
      "  data['distance_covered'] = data['vehicle_odometer'] - data.shift(1)['vehicle_odometer']\n",
      "D:\\OneDrive - Ashok Leyland Ltd\\Documents\\Parasmani\\1-4DEC\\calculate_vehicle_vitals.py:50: SettingWithCopyWarning: \n",
      "A value is trying to be set on a copy of a slice from a DataFrame\n",
      "\n",
      "See the caveats in the documentation: https://pandas.pydata.org/pandas-docs/stable/user_guide/indexing.html#returning-a-view-versus-a-copy\n",
      "  data.replace(np.nan,0, inplace = True )\n",
      "D:\\OneDrive - Ashok Leyland Ltd\\Documents\\Parasmani\\1-4DEC\\calculate_vehicle_vitals.py:51: SettingWithCopyWarning: \n",
      "A value is trying to be set on a copy of a slice from a DataFrame.\n",
      "Try using .loc[row_indexer,col_indexer] = value instead\n",
      "\n",
      "See the caveats in the documentation: https://pandas.pydata.org/pandas-docs/stable/user_guide/indexing.html#returning-a-view-versus-a-copy\n",
      "  data['distance_covered'] = data.apply(lambda row: filter_km(row['distance_covered']), axis=1)\n"
     ]
    },
    {
     "name": "stdout",
     "output_type": "stream",
     "text": [
      "Distance travelled as per vehicle odo is 1418.4 km\n",
      "Distance travelled as per vehicle odo is 1365.4 km\n",
      "Fuel consumption is 309.5 lts\n",
      "Total active hours are 36.99 hours\n",
      "Total running hours are 31.32 hours\n",
      "Total idling hours are 2.75 hours\n",
      "Total neutral driving hours are 0.76 hours\n",
      "Total zero throttle running distance is 324.49 km\n",
      "Total day time running distance is 1418.38 km\n",
      "Total night time running distance is 0.00 km\n",
      "Average speed of the vehicle is 38.35 km/h \n",
      "Total halt hours are 85.94 hrs\n",
      "Running % is 84.66 %\n",
      "Idling % is 7.43 %\n",
      "Changes applied 14/12/2022 11:36\n",
      "MB1CWKHD6LPBL5666\n"
     ]
    },
    {
     "name": "stderr",
     "output_type": "stream",
     "text": [
      "D:\\OneDrive - Ashok Leyland Ltd\\Documents\\Parasmani\\1-4DEC\\calculate_vehicle_vitals.py:49: SettingWithCopyWarning: \n",
      "A value is trying to be set on a copy of a slice from a DataFrame.\n",
      "Try using .loc[row_indexer,col_indexer] = value instead\n",
      "\n",
      "See the caveats in the documentation: https://pandas.pydata.org/pandas-docs/stable/user_guide/indexing.html#returning-a-view-versus-a-copy\n",
      "  data['distance_covered'] = data['vehicle_odometer'] - data.shift(1)['vehicle_odometer']\n",
      "D:\\OneDrive - Ashok Leyland Ltd\\Documents\\Parasmani\\1-4DEC\\calculate_vehicle_vitals.py:50: SettingWithCopyWarning: \n",
      "A value is trying to be set on a copy of a slice from a DataFrame\n",
      "\n",
      "See the caveats in the documentation: https://pandas.pydata.org/pandas-docs/stable/user_guide/indexing.html#returning-a-view-versus-a-copy\n",
      "  data.replace(np.nan,0, inplace = True )\n",
      "D:\\OneDrive - Ashok Leyland Ltd\\Documents\\Parasmani\\1-4DEC\\calculate_vehicle_vitals.py:51: SettingWithCopyWarning: \n",
      "A value is trying to be set on a copy of a slice from a DataFrame.\n",
      "Try using .loc[row_indexer,col_indexer] = value instead\n",
      "\n",
      "See the caveats in the documentation: https://pandas.pydata.org/pandas-docs/stable/user_guide/indexing.html#returning-a-view-versus-a-copy\n",
      "  data['distance_covered'] = data.apply(lambda row: filter_km(row['distance_covered']), axis=1)\n"
     ]
    },
    {
     "name": "stdout",
     "output_type": "stream",
     "text": [
      "Distance travelled as per vehicle odo is 1437.4 km\n",
      "Distance travelled as per vehicle odo is 1383.4 km\n",
      "Fuel consumption is 337.0 lts\n",
      "Total active hours are 37.50 hours\n",
      "Total running hours are 31.60 hours\n",
      "Total idling hours are 2.98 hours\n",
      "Total neutral driving hours are 1.20 hours\n",
      "Total zero throttle running distance is 347.62 km\n",
      "Total day time running distance is 1437.38 km\n",
      "Total night time running distance is 0.00 km\n",
      "Average speed of the vehicle is 38.33 km/h \n",
      "Total halt hours are 109.42 hrs\n",
      "Running % is 84.27 %\n",
      "Idling % is 7.94 %\n",
      "Changes applied 14/12/2022 11:36\n"
     ]
    }
   ],
   "source": [
    "result_dict = {}\n",
    "\n",
    "for xl in file_dict:\n",
    "    data = calculate_vehicle_vitals.calculate_vitals(file_dict[xl][0])\n",
    "    result_dict[xl] = data"
   ]
  },
  {
   "cell_type": "code",
   "execution_count": 7,
   "id": "9e39f01f",
   "metadata": {},
   "outputs": [
    {
     "data": {
      "text/plain": [
       "Index(['MH04KF6407', 'MH04KF6407percentage'], dtype='object')"
      ]
     },
     "execution_count": 7,
     "metadata": {},
     "output_type": "execute_result"
    }
   ],
   "source": [
    "result_dict['MB1CWKHD2LPAL6794']['torque_vs_distance_covered'].columns"
   ]
  },
  {
   "cell_type": "code",
   "execution_count": 8,
   "id": "e549664c",
   "metadata": {},
   "outputs": [
    {
     "data": {
      "text/plain": [
       "\"s1_df = result_dict['MB1CWKHD2LPAL6794']['speed_vs_distance_covered']\\ns2_df = result_dict['MB1CWKHD2LPBL5700']['speed_vs_distance_covered']\\nr = pd.merge(s1_df,s2_df,left_index= True, right_index= True)\\nr.columns = [1,2,3,4]\\n\\nr\""
      ]
     },
     "execution_count": 8,
     "metadata": {},
     "output_type": "execute_result"
    }
   ],
   "source": [
    "'''s1_df = result_dict['MB1CWKHD2LPAL6794']['speed_vs_distance_covered']\n",
    "s2_df = result_dict['MB1CWKHD2LPBL5700']['speed_vs_distance_covered']\n",
    "r = pd.merge(s1_df,s2_df,left_index= True, right_index= True)\n",
    "r.columns = [1,2,3,4]\n",
    "\n",
    "r'''"
   ]
  },
  {
   "cell_type": "code",
   "execution_count": 9,
   "id": "50431bbe",
   "metadata": {},
   "outputs": [],
   "source": [
    "combined_vitals = None\n",
    "combined_speed_vs_distance = None\n",
    "combined_torque_vs_distance = None\n",
    "combined_throttle_vs_distance = None\n",
    "combined_engine_speed_vs_distance = None\n",
    "combined_gear_vs_distance = None\n",
    "previous_key = reg_number_dict[list(result_dict.keys())[0]]\n",
    "\n",
    "for i, key in enumerate(result_dict):\n",
    "    data = result_dict[key]\n",
    "    if i == 0:\n",
    "        combined_vitals = data['vitals']\n",
    "        combined_speed_vs_distance = data['speed_vs_distance_covered']\n",
    "        combined_torque_vs_distance = data['torque_vs_distance_covered']\n",
    "        combined_throttle_vs_distance = data['throttle_vs_distance_covered']\n",
    "        combined_engine_speed_vs_distance = data['engine_speed_vs_distance_covered']\n",
    "        combined_gear_vs_distance = data['gear_vs_distance_covered']\n",
    "        \n",
    "    else:\n",
    "        current_key = reg_number_dict[key]\n",
    "        combined_vitals = pd.merge(combined_vitals,data['vitals'], left_index= True, right_index= True)\n",
    "        combined_speed_vs_distance = pd.merge(combined_speed_vs_distance,data['speed_vs_distance_covered'], left_index= True, right_index= True )\n",
    "        combined_torque_vs_distance = pd.merge(combined_torque_vs_distance,data['torque_vs_distance_covered'], left_index= True, right_index= True )\n",
    "        combined_throttle_vs_distance = pd.merge(combined_throttle_vs_distance,data['throttle_vs_distance_covered'], left_index= True, right_index= True )\n",
    "        combined_engine_speed_vs_distance = pd.merge(combined_engine_speed_vs_distance,data['engine_speed_vs_distance_covered'], left_index= True, right_index= True )\n",
    "        combined_gear_vs_distance = pd.merge(combined_gear_vs_distance,data['gear_vs_distance_covered'], left_index= True, right_index= True )\n",
    "        previous_key = current_key"
   ]
  },
  {
   "cell_type": "code",
   "execution_count": null,
   "id": "b81a5454",
   "metadata": {},
   "outputs": [],
   "source": []
  },
  {
   "cell_type": "code",
   "execution_count": 11,
   "id": "b6b5488a",
   "metadata": {},
   "outputs": [],
   "source": [
    "with pd.ExcelWriter('output.xlsx') as writer:\n",
    "    combined_vitals.to_excel(writer, sheet_name='vitals')\n",
    "    combined_speed_vs_distance.to_excel(writer, sheet_name='SpeedvsDistance')\n",
    "    combined_torque_vs_distance.to_excel(writer, sheet_name='TorqueVsDistance')\n",
    "    combined_throttle_vs_distance.to_excel(writer, sheet_name='ThrottlevsDistance')\n",
    "    combined_gear_vs_distance.to_excel(writer, sheet_name='GearvsDistance')\n",
    "    combined_engine_speed_vs_distance.to_excel(writer, sheet_name='EngineSpeedvsDistance') "
   ]
  },
  {
   "cell_type": "code",
   "execution_count": null,
   "id": "ab40332c",
   "metadata": {},
   "outputs": [],
   "source": []
  },
  {
   "cell_type": "code",
   "execution_count": null,
   "id": "2d9f7b66",
   "metadata": {},
   "outputs": [],
   "source": []
  },
  {
   "cell_type": "code",
   "execution_count": null,
   "id": "2f7b2fbe",
   "metadata": {},
   "outputs": [],
   "source": []
  }
 ],
 "metadata": {
  "kernelspec": {
   "display_name": "Python 3 (ipykernel)",
   "language": "python",
   "name": "python3"
  },
  "language_info": {
   "codemirror_mode": {
    "name": "ipython",
    "version": 3
   },
   "file_extension": ".py",
   "mimetype": "text/x-python",
   "name": "python",
   "nbconvert_exporter": "python",
   "pygments_lexer": "ipython3",
   "version": "3.9.13"
  }
 },
 "nbformat": 4,
 "nbformat_minor": 5
}
