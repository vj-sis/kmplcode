{
 "cells": [
  {
   "cell_type": "markdown",
   "id": "2a37bc53",
   "metadata": {},
   "source": [
    "## Importing Libraries ##"
   ]
  },
  {
   "cell_type": "code",
   "execution_count": 1,
   "id": "a86a2c33",
   "metadata": {},
   "outputs": [],
   "source": [
    "import pandas as pd\n",
    "import numpy as np\n",
    "from datetime import date\n",
    "from datetime import timedelta\n",
    "from datetime import datetime\n",
    "import math"
   ]
  },
  {
   "cell_type": "code",
   "execution_count": 2,
   "id": "16fffa61",
   "metadata": {},
   "outputs": [],
   "source": [
    "def filter_km(km_value):\n",
    "    if abs(km_value) > 5:\n",
    "        return 0\n",
    "    return km_value"
   ]
  },
  {
   "cell_type": "markdown",
   "id": "171b8395",
   "metadata": {},
   "source": [
    "## Getting and cleaning the data ##"
   ]
  },
  {
   "cell_type": "code",
   "execution_count": 12,
   "id": "8344dbd9",
   "metadata": {},
   "outputs": [],
   "source": [
    "raw_data = pd.read_csv(\"MB1CWKHD2LPAL6794_input.csv\")"
   ]
  },
  {
   "cell_type": "code",
   "execution_count": 13,
   "id": "42042801",
   "metadata": {},
   "outputs": [],
   "source": [
    "# removing values which are blank, empty or zero\n",
    "\n",
    "data = raw_data.loc[(raw_data['packet_sequence_id'] != np.nan) & \\\n",
    "                    (raw_data['packet_sequence_id'] != \"\") & \\\n",
    "                    (raw_data['packet_sequence_id'] != 0) ].copy()              "
   ]
  },
  {
   "cell_type": "code",
   "execution_count": 5,
   "id": "47313da7",
   "metadata": {},
   "outputs": [],
   "source": [
    "#data.sort_values(by ='obu_timestamp')"
   ]
  },
  {
   "cell_type": "code",
   "execution_count": 14,
   "id": "ed4dad73",
   "metadata": {
    "scrolled": true
   },
   "outputs": [
    {
     "name": "stdout",
     "output_type": "stream",
     "text": [
      "Unnamed: 0\n",
      "S_No\n",
      "obu_id\n",
      "obu_timestamp\n",
      "vin\n",
      "packet_sequence_id\n",
      "p_frequency\n",
      "latitude\n",
      "longitude\n",
      "altitude\n",
      "heading\n",
      "packet_status\n",
      "gps_speed\n",
      "no_of_satellites\n",
      "location\n",
      "gps_odometer\n",
      "vehicle_type\n",
      "frequency_from_w\n",
      "longitudnal_acceleration\n",
      "vehicle_state_info_1\n",
      "gsm_signal_strength\n",
      "vehicle_acceleration_sensor\n",
      "ignition_status\n",
      "vehicle_battery_potential\n",
      "fuel_level\n",
      "wheel_based_speed\n",
      "engine_speed\n",
      "fuel_consumption\n",
      "actual_engine_percent_torque\n",
      "engine_hours\n",
      "engine_coolant_temperature\n",
      "throttle_position\n",
      "frictional_torque\n",
      "engine_oil_pressure\n",
      "clutch_pedal\n",
      "brake_pedal\n",
      "vehicle_distance\n",
      "engine_oil_temperature\n",
      "engine_intake_manifold_1_pressure\n",
      "engine_intake_manifold_1_temperature\n",
      "barometric_pressure\n",
      "aft1_exhaust_gas_mass_flow_rate\n",
      "drivers_demand_engine_percent_torque\n",
      "vehicle_odometer\n",
      "air_pressure_actual1\n",
      "air_pressure_actual2\n",
      "distance_to_empty\n",
      "gsas_compliance\n",
      "transmission_current_gear\n",
      "ecu_mil_status\n",
      "eng_operating_state\n",
      "eng_current_oper_mode\n",
      "eng_intake_air_mass_flow_rate\n",
      "parking_brake_switch\n",
      "engine_pto_set_switch\n",
      "coolant_level_warning\n",
      "exhuast_brake_status\n",
      "air_filter_blocked\n",
      "stop_status\n",
      "edc_lamp_status\n",
      "nox_error\n",
      "axle_up_status\n",
      "engine_torque_mode\n",
      "engine_exhaust_gas_recirculation_temperature\n",
      "fan_speed\n",
      "injection_quantity\n",
      "smoke_limit_quantity\n",
      "rail_pressure_demand\n",
      "rail_pressure_actual\n",
      "metering_unit_current\n",
      "maximum_engine_speed\n",
      "egr_position_demand\n",
      "egr_position_actual\n",
      "egr_duty_cycle\n",
      "egr_position_sensor_voltage\n",
      "itv_position_demand\n",
      "itv_position_actual\n",
      "itv_duty_cycle\n",
      "itv_position_sensor_voltage\n",
      "regen_trigger_state\n",
      "front_axle_speed\n",
      "transmission_mode_3_controller\n",
      "transmission_mode_5_controller\n",
      "transmission_mode_6_controller\n",
      "transmission_mode_7_controller\n",
      "transmission_mode_8_controller\n",
      "aft1_diesel_particulate_filter_outlet_pressure\n",
      "aft1_diesel_particulate_filter_outlet_temperature\n",
      "aft1_diesel_exhaust_fluid_dosing_requested_quantity\n",
      "combined_soot_load_gpl\n",
      "reserved_1byte_param_1\n",
      "transmission_mode_1_controller\n"
     ]
    }
   ],
   "source": [
    "for column in data.columns:\n",
    "    print(column)"
   ]
  },
  {
   "cell_type": "code",
   "execution_count": 15,
   "id": "167eb3c6",
   "metadata": {},
   "outputs": [
    {
     "data": {
      "text/html": [
       "<div>\n",
       "<style scoped>\n",
       "    .dataframe tbody tr th:only-of-type {\n",
       "        vertical-align: middle;\n",
       "    }\n",
       "\n",
       "    .dataframe tbody tr th {\n",
       "        vertical-align: top;\n",
       "    }\n",
       "\n",
       "    .dataframe thead th {\n",
       "        text-align: right;\n",
       "    }\n",
       "</style>\n",
       "<table border=\"1\" class=\"dataframe\">\n",
       "  <thead>\n",
       "    <tr style=\"text-align: right;\">\n",
       "      <th></th>\n",
       "      <th>Unnamed: 0</th>\n",
       "      <th>S_No</th>\n",
       "      <th>obu_id</th>\n",
       "      <th>obu_timestamp</th>\n",
       "      <th>vin</th>\n",
       "      <th>packet_sequence_id</th>\n",
       "      <th>p_frequency</th>\n",
       "      <th>latitude</th>\n",
       "      <th>longitude</th>\n",
       "      <th>altitude</th>\n",
       "      <th>...</th>\n",
       "      <th>transmission_mode_5_controller</th>\n",
       "      <th>transmission_mode_6_controller</th>\n",
       "      <th>transmission_mode_7_controller</th>\n",
       "      <th>transmission_mode_8_controller</th>\n",
       "      <th>aft1_diesel_particulate_filter_outlet_pressure</th>\n",
       "      <th>aft1_diesel_particulate_filter_outlet_temperature</th>\n",
       "      <th>aft1_diesel_exhaust_fluid_dosing_requested_quantity</th>\n",
       "      <th>combined_soot_load_gpl</th>\n",
       "      <th>reserved_1byte_param_1</th>\n",
       "      <th>transmission_mode_1_controller</th>\n",
       "    </tr>\n",
       "  </thead>\n",
       "  <tbody>\n",
       "    <tr>\n",
       "      <th>0</th>\n",
       "      <td>0</td>\n",
       "      <td>1</td>\n",
       "      <td>2008102021</td>\n",
       "      <td>2022-12-5 04:46:41</td>\n",
       "      <td>MB1CWKHD2LPAL6794</td>\n",
       "      <td>6</td>\n",
       "      <td>NaN</td>\n",
       "      <td>26.016931</td>\n",
       "      <td>75.476896</td>\n",
       "      <td>353.00</td>\n",
       "      <td>...</td>\n",
       "      <td>NaN</td>\n",
       "      <td>NaN</td>\n",
       "      <td>NaN</td>\n",
       "      <td>NaN</td>\n",
       "      <td>NaN</td>\n",
       "      <td>NaN</td>\n",
       "      <td>NaN</td>\n",
       "      <td>NaN</td>\n",
       "      <td>NaN</td>\n",
       "      <td>NaN</td>\n",
       "    </tr>\n",
       "    <tr>\n",
       "      <th>1</th>\n",
       "      <td>1</td>\n",
       "      <td>2</td>\n",
       "      <td>2008102021</td>\n",
       "      <td>2022-12-5 06:26:25</td>\n",
       "      <td>MB1CWKHD2LPAL6794</td>\n",
       "      <td>52204</td>\n",
       "      <td>6.0</td>\n",
       "      <td>26.016898</td>\n",
       "      <td>75.476794</td>\n",
       "      <td>396.35</td>\n",
       "      <td>...</td>\n",
       "      <td>0.0</td>\n",
       "      <td>0.0</td>\n",
       "      <td>0.0</td>\n",
       "      <td>0.0</td>\n",
       "      <td>0.3</td>\n",
       "      <td>16.00</td>\n",
       "      <td>0.0</td>\n",
       "      <td>2.88</td>\n",
       "      <td>0.0</td>\n",
       "      <td>0.0</td>\n",
       "    </tr>\n",
       "    <tr>\n",
       "      <th>2</th>\n",
       "      <td>2</td>\n",
       "      <td>3</td>\n",
       "      <td>2008102021</td>\n",
       "      <td>2022-12-5 06:26:31</td>\n",
       "      <td>MB1CWKHD2LPAL6794</td>\n",
       "      <td>52205</td>\n",
       "      <td>6.0</td>\n",
       "      <td>26.016898</td>\n",
       "      <td>75.476794</td>\n",
       "      <td>396.35</td>\n",
       "      <td>...</td>\n",
       "      <td>0.0</td>\n",
       "      <td>0.0</td>\n",
       "      <td>0.0</td>\n",
       "      <td>0.0</td>\n",
       "      <td>0.3</td>\n",
       "      <td>16.00</td>\n",
       "      <td>0.0</td>\n",
       "      <td>2.88</td>\n",
       "      <td>0.0</td>\n",
       "      <td>0.0</td>\n",
       "    </tr>\n",
       "    <tr>\n",
       "      <th>3</th>\n",
       "      <td>3</td>\n",
       "      <td>4</td>\n",
       "      <td>2008102021</td>\n",
       "      <td>2022-12-5 06:26:37</td>\n",
       "      <td>MB1CWKHD2LPAL6794</td>\n",
       "      <td>52206</td>\n",
       "      <td>6.0</td>\n",
       "      <td>26.016898</td>\n",
       "      <td>75.476794</td>\n",
       "      <td>396.35</td>\n",
       "      <td>...</td>\n",
       "      <td>0.0</td>\n",
       "      <td>0.0</td>\n",
       "      <td>0.0</td>\n",
       "      <td>0.0</td>\n",
       "      <td>0.3</td>\n",
       "      <td>16.38</td>\n",
       "      <td>0.0</td>\n",
       "      <td>2.88</td>\n",
       "      <td>0.0</td>\n",
       "      <td>0.0</td>\n",
       "    </tr>\n",
       "    <tr>\n",
       "      <th>4</th>\n",
       "      <td>4</td>\n",
       "      <td>5</td>\n",
       "      <td>2008102021</td>\n",
       "      <td>2022-12-5 06:26:43</td>\n",
       "      <td>MB1CWKHD2LPAL6794</td>\n",
       "      <td>52207</td>\n",
       "      <td>6.0</td>\n",
       "      <td>26.016898</td>\n",
       "      <td>75.476794</td>\n",
       "      <td>396.35</td>\n",
       "      <td>...</td>\n",
       "      <td>0.0</td>\n",
       "      <td>0.0</td>\n",
       "      <td>0.0</td>\n",
       "      <td>0.0</td>\n",
       "      <td>0.3</td>\n",
       "      <td>18.09</td>\n",
       "      <td>0.0</td>\n",
       "      <td>2.88</td>\n",
       "      <td>0.0</td>\n",
       "      <td>0.0</td>\n",
       "    </tr>\n",
       "  </tbody>\n",
       "</table>\n",
       "<p>5 rows × 92 columns</p>\n",
       "</div>"
      ],
      "text/plain": [
       "   Unnamed: 0  S_No      obu_id       obu_timestamp                vin  \\\n",
       "0           0     1  2008102021  2022-12-5 04:46:41  MB1CWKHD2LPAL6794   \n",
       "1           1     2  2008102021  2022-12-5 06:26:25  MB1CWKHD2LPAL6794   \n",
       "2           2     3  2008102021  2022-12-5 06:26:31  MB1CWKHD2LPAL6794   \n",
       "3           3     4  2008102021  2022-12-5 06:26:37  MB1CWKHD2LPAL6794   \n",
       "4           4     5  2008102021  2022-12-5 06:26:43  MB1CWKHD2LPAL6794   \n",
       "\n",
       "   packet_sequence_id  p_frequency   latitude  longitude  altitude  ...  \\\n",
       "0                   6          NaN  26.016931  75.476896    353.00  ...   \n",
       "1               52204          6.0  26.016898  75.476794    396.35  ...   \n",
       "2               52205          6.0  26.016898  75.476794    396.35  ...   \n",
       "3               52206          6.0  26.016898  75.476794    396.35  ...   \n",
       "4               52207          6.0  26.016898  75.476794    396.35  ...   \n",
       "\n",
       "   transmission_mode_5_controller transmission_mode_6_controller  \\\n",
       "0                             NaN                            NaN   \n",
       "1                             0.0                            0.0   \n",
       "2                             0.0                            0.0   \n",
       "3                             0.0                            0.0   \n",
       "4                             0.0                            0.0   \n",
       "\n",
       "   transmission_mode_7_controller  transmission_mode_8_controller  \\\n",
       "0                             NaN                             NaN   \n",
       "1                             0.0                             0.0   \n",
       "2                             0.0                             0.0   \n",
       "3                             0.0                             0.0   \n",
       "4                             0.0                             0.0   \n",
       "\n",
       "  aft1_diesel_particulate_filter_outlet_pressure  \\\n",
       "0                                            NaN   \n",
       "1                                            0.3   \n",
       "2                                            0.3   \n",
       "3                                            0.3   \n",
       "4                                            0.3   \n",
       "\n",
       "   aft1_diesel_particulate_filter_outlet_temperature  \\\n",
       "0                                                NaN   \n",
       "1                                              16.00   \n",
       "2                                              16.00   \n",
       "3                                              16.38   \n",
       "4                                              18.09   \n",
       "\n",
       "  aft1_diesel_exhaust_fluid_dosing_requested_quantity  combined_soot_load_gpl  \\\n",
       "0                                                NaN                      NaN   \n",
       "1                                                0.0                     2.88   \n",
       "2                                                0.0                     2.88   \n",
       "3                                                0.0                     2.88   \n",
       "4                                                0.0                     2.88   \n",
       "\n",
       "   reserved_1byte_param_1  transmission_mode_1_controller  \n",
       "0                     NaN                             NaN  \n",
       "1                     0.0                             0.0  \n",
       "2                     0.0                             0.0  \n",
       "3                     0.0                             0.0  \n",
       "4                     0.0                             0.0  \n",
       "\n",
       "[5 rows x 92 columns]"
      ]
     },
     "execution_count": 15,
     "metadata": {},
     "output_type": "execute_result"
    }
   ],
   "source": [
    "data.head()"
   ]
  },
  {
   "cell_type": "code",
   "execution_count": 16,
   "id": "6a2c623c",
   "metadata": {},
   "outputs": [],
   "source": [
    "data['distance_covered'] = data['vehicle_odometer'] - data.shift(1)['vehicle_odometer']\n"
   ]
  },
  {
   "cell_type": "code",
   "execution_count": 9,
   "id": "0dbf0fcb",
   "metadata": {},
   "outputs": [
    {
     "name": "stderr",
     "output_type": "stream",
     "text": [
      "C:\\Users\\VijaySingh.Sisodia\\AppData\\Local\\Temp\\ipykernel_5980\\3323794285.py:1: SettingWithCopyWarning: \n",
      "A value is trying to be set on a copy of a slice from a DataFrame\n",
      "\n",
      "See the caveats in the documentation: https://pandas.pydata.org/pandas-docs/stable/user_guide/indexing.html#returning-a-view-versus-a-copy\n",
      "  data.replace(np.nan,0, inplace = True )\n"
     ]
    }
   ],
   "source": []
  },
  {
   "cell_type": "code",
   "execution_count": 17,
   "id": "93fa2d0f",
   "metadata": {},
   "outputs": [],
   "source": [
    "data['distance_covered'] = data.apply(lambda row: filter_km(row['distance_covered']), axis=1)"
   ]
  },
  {
   "cell_type": "code",
   "execution_count": 18,
   "id": "5bf852a9",
   "metadata": {},
   "outputs": [],
   "source": [
    "data = data.replace(np.nan,0)"
   ]
  },
  {
   "cell_type": "code",
   "execution_count": 19,
   "id": "c1a159ae",
   "metadata": {},
   "outputs": [
    {
     "data": {
      "text/plain": [
       "647.4899999999907"
      ]
     },
     "execution_count": 19,
     "metadata": {},
     "output_type": "execute_result"
    }
   ],
   "source": [
    "data.distance_covered.sum()"
   ]
  },
  {
   "cell_type": "markdown",
   "id": "969f1b25",
   "metadata": {},
   "source": [
    "## Distance Travelled calculation"
   ]
  },
  {
   "cell_type": "markdown",
   "id": "c2c0febe",
   "metadata": {},
   "source": [
    "**Distance Travelled as per Vehicle ODO**"
   ]
  },
  {
   "cell_type": "code",
   "execution_count": 20,
   "id": "0ece2792",
   "metadata": {},
   "outputs": [],
   "source": [
    "#distance travelled as per vehicle odo\n",
    "distance_travelled_vehicle_odo = np.max(data[data['vehicle_odometer'] != 0]['vehicle_odometer'])- \\\n",
    "np.min(data[data['vehicle_odometer'] != 0]['vehicle_odometer'])"
   ]
  },
  {
   "cell_type": "code",
   "execution_count": 21,
   "id": "009f1747",
   "metadata": {},
   "outputs": [
    {
     "name": "stdout",
     "output_type": "stream",
     "text": [
      "Distance travelled as per vehicle odo is 647.7 km\n"
     ]
    }
   ],
   "source": [
    "print(f'Distance travelled as per vehicle odo is {distance_travelled_vehicle_odo:.1f} km')"
   ]
  },
  {
   "cell_type": "markdown",
   "id": "1f45b9d6",
   "metadata": {},
   "source": [
    "**Distance travelled as per ECU ODO**"
   ]
  },
  {
   "cell_type": "code",
   "execution_count": 22,
   "id": "2f47fca7",
   "metadata": {},
   "outputs": [],
   "source": [
    "vehicle_ecu_distance_readings = data[data['vehicle_distance'] != 0]['vehicle_distance']"
   ]
  },
  {
   "cell_type": "code",
   "execution_count": 23,
   "id": "a1221089",
   "metadata": {},
   "outputs": [],
   "source": [
    "distance_travelled_ecu_odo = np.max(vehicle_ecu_distance_readings)-np.min(vehicle_ecu_distance_readings)"
   ]
  },
  {
   "cell_type": "code",
   "execution_count": 24,
   "id": "4ed4d627",
   "metadata": {},
   "outputs": [
    {
     "name": "stdout",
     "output_type": "stream",
     "text": [
      "Distance travelled as per vehicle odo is 623.9 km\n"
     ]
    }
   ],
   "source": [
    "print(f'Distance travelled as per vehicle odo is {distance_travelled_ecu_odo:.1f} km')"
   ]
  },
  {
   "cell_type": "markdown",
   "id": "649dae86",
   "metadata": {},
   "source": [
    "## Fuel Consumption calculation ##"
   ]
  },
  {
   "cell_type": "code",
   "execution_count": 25,
   "id": "161f1094",
   "metadata": {},
   "outputs": [],
   "source": [
    "fuel_consumption_readings = data[data['fuel_consumption'] != 0]['fuel_consumption']"
   ]
  },
  {
   "cell_type": "code",
   "execution_count": 26,
   "id": "54b6b534",
   "metadata": {},
   "outputs": [],
   "source": [
    "Fuel_consumption = np.max(fuel_consumption_readings)-np.min(fuel_consumption_readings)"
   ]
  },
  {
   "cell_type": "code",
   "execution_count": 27,
   "id": "9010dfa2",
   "metadata": {},
   "outputs": [
    {
     "name": "stdout",
     "output_type": "stream",
     "text": [
      "Fuel consumption is 128.5 lts\n"
     ]
    }
   ],
   "source": [
    "print(f'Fuel consumption is {Fuel_consumption} lts')"
   ]
  },
  {
   "cell_type": "markdown",
   "id": "b8d85b4d",
   "metadata": {},
   "source": [
    "## Running time calculations"
   ]
  },
  {
   "cell_type": "markdown",
   "id": "5c6bacb9",
   "metadata": {},
   "source": [
    "**Active hours**\n",
    "\n",
    "Total number of packets/600"
   ]
  },
  {
   "cell_type": "code",
   "execution_count": 28,
   "id": "cfa294e4",
   "metadata": {},
   "outputs": [],
   "source": [
    "total_active_hours = len(np.unique(data['packet_sequence_id']))/600"
   ]
  },
  {
   "cell_type": "code",
   "execution_count": 29,
   "id": "5b1d1865",
   "metadata": {},
   "outputs": [
    {
     "name": "stdout",
     "output_type": "stream",
     "text": [
      "Total active hours are 18.52 hours\n"
     ]
    }
   ],
   "source": [
    "print(f'Total active hours are {total_active_hours:.2f} hours')"
   ]
  },
  {
   "cell_type": "markdown",
   "id": "668ace9f",
   "metadata": {},
   "source": [
    "**Running Hours**\n",
    "\n",
    "Total packets in below conditions / 600 <br>\n",
    "- wheel base speed >=5 <br>\n",
    "- engine speed >= 5"
   ]
  },
  {
   "cell_type": "code",
   "execution_count": 30,
   "id": "d05666f6",
   "metadata": {},
   "outputs": [],
   "source": [
    "running_packets = data.loc[(data['wheel_based_speed']>=5) & (data['engine_speed']>=5)  ]['packet_sequence_id']"
   ]
  },
  {
   "cell_type": "code",
   "execution_count": 31,
   "id": "21496a94",
   "metadata": {},
   "outputs": [],
   "source": [
    "total_running_hours = len(np.unique(running_packets))/600"
   ]
  },
  {
   "cell_type": "code",
   "execution_count": 32,
   "id": "40ed4add",
   "metadata": {},
   "outputs": [
    {
     "name": "stdout",
     "output_type": "stream",
     "text": [
      "Total running hours are 15.33 hours\n"
     ]
    }
   ],
   "source": [
    "print(f'Total running hours are {total_running_hours:.2f} hours')"
   ]
  },
  {
   "cell_type": "markdown",
   "id": "53ee8ab7",
   "metadata": {},
   "source": [
    "**Idling Hours** <br>\n",
    "<br>\n",
    "Total packets in below conditions / 600 <br>\n",
    "- wheel base speed < 5 <br>\n",
    "- engine speed <5\n"
   ]
  },
  {
   "cell_type": "code",
   "execution_count": 33,
   "id": "235801d9",
   "metadata": {},
   "outputs": [],
   "source": [
    "idling_packets = data.loc[(data['wheel_based_speed']<5) & (data['engine_speed']>5)  ]['packet_sequence_id'].copy()"
   ]
  },
  {
   "cell_type": "code",
   "execution_count": 34,
   "id": "2b3e36a5",
   "metadata": {},
   "outputs": [],
   "source": [
    "total_idling_hours = len(np.unique(idling_packets))/600"
   ]
  },
  {
   "cell_type": "code",
   "execution_count": 35,
   "id": "d66c3e3e",
   "metadata": {},
   "outputs": [
    {
     "name": "stdout",
     "output_type": "stream",
     "text": [
      "Total idling hours are 1.89 hours\n"
     ]
    }
   ],
   "source": [
    "print(f'Total idling hours are {total_idling_hours:.2f} hours')"
   ]
  },
  {
   "cell_type": "markdown",
   "id": "82041d04",
   "metadata": {},
   "source": [
    "**Neutral driving hours**<br><br>\n",
    "Total packets in below conditions / 600 <br>\n",
    "- wheel base speed >= 5<br>\n",
    "- engine speed > = 5<br>\n",
    "- clutch pedal = 0<br>\n",
    "- gear = 0\n",
    "\n"
   ]
  },
  {
   "cell_type": "code",
   "execution_count": 37,
   "id": "848a4101",
   "metadata": {},
   "outputs": [],
   "source": [
    "neutral_driving_packets = data.loc[(data['wheel_based_speed']>=5) & \\\n",
    "                                   (data['engine_speed']>=5)  & (data['clutch_pedal'] == 0) & \\\n",
    "                                   (data['transmission_current_gear'] == 0)]['packet_sequence_id'].copy()"
   ]
  },
  {
   "cell_type": "code",
   "execution_count": 38,
   "id": "8496996e",
   "metadata": {},
   "outputs": [],
   "source": [
    "total_neutral_driving_hours = len(np.unique(neutral_driving_packets))/600"
   ]
  },
  {
   "cell_type": "code",
   "execution_count": 39,
   "id": "e9285926",
   "metadata": {},
   "outputs": [
    {
     "name": "stdout",
     "output_type": "stream",
     "text": [
      "Total neutral driving hours are 0.89 hours\n"
     ]
    }
   ],
   "source": [
    "print(f'Total neutral driving hours are {total_neutral_driving_hours:.2f} hours')"
   ]
  },
  {
   "cell_type": "markdown",
   "id": "8209e6e5",
   "metadata": {},
   "source": [
    "**Zero throttle running distance**\n",
    "<br>\n",
    "<br>\n",
    "Total packets in below condition /600\n",
    "- Throttle position = 0\n",
    "- wheel based speed = 0"
   ]
  },
  {
   "cell_type": "code",
   "execution_count": 40,
   "id": "bf5a1a2c",
   "metadata": {},
   "outputs": [],
   "source": [
    "zero_throttle_packets = data.loc[(data['throttle_position']==0) & (data['wheel_based_speed']>5)  ]['packet_sequence_id'].copy()"
   ]
  },
  {
   "cell_type": "code",
   "execution_count": 41,
   "id": "204ca5c8",
   "metadata": {},
   "outputs": [
    {
     "name": "stdout",
     "output_type": "stream",
     "text": [
      "Total zero throttle running distance is 3.33 km\n"
     ]
    }
   ],
   "source": [
    "zero_throttle_running_distance = len(np.unique(zero_throttle_packets))/600\n",
    "print(f'Total zero throttle running distance is {zero_throttle_running_distance:.2f} km')"
   ]
  },
  {
   "cell_type": "markdown",
   "id": "76e77cde",
   "metadata": {},
   "source": [
    "## Day time/Night time running calculation"
   ]
  },
  {
   "cell_type": "markdown",
   "id": "d98ba620",
   "metadata": {},
   "source": [
    "**Daytime running distance** = Distance travelled between 5AM and 9PM"
   ]
  },
  {
   "cell_type": "code",
   "execution_count": null,
   "id": "85ecb736",
   "metadata": {},
   "outputs": [],
   "source": [
    "def get_datetime(d_string):\n",
    "    return "
   ]
  },
  {
   "cell_type": "code",
   "execution_count": 49,
   "id": "ddc1e1cb",
   "metadata": {},
   "outputs": [],
   "source": [
    "data[\"obu_date\"] = data.apply(lambda row, datetimerow['obu_timestamp']"
   ]
  },
  {
   "cell_type": "code",
   "execution_count": 50,
   "id": "cbc53a4e",
   "metadata": {},
   "outputs": [],
   "source": [
    "first_day = data.iloc[0]['obu_date']\n",
    "last_day = data.iloc[-1]['obu_date']\n",
    "first_day_datetime = datetime.combine(first_day.date(), datetime.min.time())\n",
    "last_day_datetime = datetime.combine(last_day.date(), datetime.max.time())"
   ]
  },
  {
   "cell_type": "code",
   "execution_count": 52,
   "id": "aee52de2",
   "metadata": {},
   "outputs": [],
   "source": [
    "total_number_of_days = (last_day_datetime - first_day_datetime).days + 1"
   ]
  },
  {
   "cell_type": "code",
   "execution_count": 55,
   "id": "add04105",
   "metadata": {},
   "outputs": [],
   "source": [
    "dates_list_5am = []\n",
    "dates_list_9pm = []\n",
    "for i in range(total_number_of_days):\n",
    "    dates_list_5am.append(first_day_datetime + timedelta(days = i) + timedelta(hours = 5))\n",
    "    dates_list_9pm.append(first_day_datetime + timedelta(days = i) + timedelta(hours = 21))"
   ]
  },
  {
   "cell_type": "code",
   "execution_count": 57,
   "id": "6c0a6e5b",
   "metadata": {},
   "outputs": [
    {
     "name": "stdout",
     "output_type": "stream",
     "text": [
      "Total day time running distance is 628.12 km\n",
      "Total night time running distance is 19.62 km\n"
     ]
    }
   ],
   "source": [
    "day_time_running_distance = 0\n",
    "\n",
    "for i in range(len(dates_list_5am)):\n",
    "    daytime_day = data.loc[(data['obu_date'] > dates_list_5am[i]) & (data['obu_date'] < dates_list_9pm[i])]\n",
    "    max_odo = np.max(daytime_day[daytime_day['vehicle_odometer'] != 0]['vehicle_odometer'])\n",
    "    min_odo = np.min(daytime_day[daytime_day['vehicle_odometer'] != 0]['vehicle_odometer'])\n",
    "    #print(min_odo,max_odo)\n",
    "    \n",
    "    if(not (math.isnan(max_odo) and math.isnan(min_odo))):\n",
    "        total_running_km = max_odo-min_odo\n",
    "        day_time_running_distance += total_running_km   \n",
    "\n",
    "        \n",
    "night_time_running_distance = distance_travelled_vehicle_odo - day_time_running_distance\n",
    "\n",
    "print(f'Total day time running distance is {day_time_running_distance:.2f} km')\n",
    "print(f'Total night time running distance is {night_time_running_distance:.2f} km')\n",
    "                     "
   ]
  },
  {
   "cell_type": "markdown",
   "id": "a53002c8",
   "metadata": {},
   "source": [
    "## Miscelleneous Parameters"
   ]
  },
  {
   "cell_type": "code",
   "execution_count": 58,
   "id": "c50829bc",
   "metadata": {},
   "outputs": [
    {
     "name": "stdout",
     "output_type": "stream",
     "text": [
      "Average speed of the vehicle is 34.98 km/h \n",
      "Total halt hours are 3678.77 hrs\n",
      "Running % is 82.81 %\n",
      "Idling % is 10.23 %\n"
     ]
    }
   ],
   "source": [
    "average_speed = distance_travelled_vehicle_odo / total_active_hours\n",
    "halt_hours = total_number_of_days*24 - total_running_hours - total_idling_hours\n",
    "running_percentage = (total_running_hours/total_active_hours)*100\n",
    "idling_percentage = (total_idling_hours/total_active_hours)*100\n",
    "\n",
    "print(f'Average speed of the vehicle is {average_speed:.2f} km/h ')\n",
    "print(f'Total halt hours are {halt_hours:.2f} hrs')\n",
    "print(f'Running % is {running_percentage:.2f} %')\n",
    "print(f'Idling % is {idling_percentage:.2f} %')\n"
   ]
  },
  {
   "cell_type": "markdown",
   "id": "5c4c62ca",
   "metadata": {},
   "source": [
    "## Pivot for Vehicle Speed Vs Distance ##"
   ]
  },
  {
   "cell_type": "code",
   "execution_count": 59,
   "id": "c1f2c8da",
   "metadata": {},
   "outputs": [],
   "source": [
    "groups= data.groupby([pd.cut(data.wheel_based_speed, np.arange(0, 110, 10), right = False)], dropna= False)\n",
    "speed_vs_distance_covered_df = groups.distance_covered.sum().to_frame()\n",
    "tot_distance = np.sum(speed_vs_distance_covered_df.distance_covered)"
   ]
  },
  {
   "cell_type": "code",
   "execution_count": 60,
   "id": "84c2ddfd",
   "metadata": {
    "scrolled": true
   },
   "outputs": [],
   "source": [
    "speed_vs_distance_covered_df['distance_travelled_percentage'] = speed_vs_distance_covered_df['distance_covered']/tot_distance"
   ]
  },
  {
   "cell_type": "code",
   "execution_count": 61,
   "id": "0a8a7bae",
   "metadata": {},
   "outputs": [
    {
     "data": {
      "text/html": [
       "<div>\n",
       "<style scoped>\n",
       "    .dataframe tbody tr th:only-of-type {\n",
       "        vertical-align: middle;\n",
       "    }\n",
       "\n",
       "    .dataframe tbody tr th {\n",
       "        vertical-align: top;\n",
       "    }\n",
       "\n",
       "    .dataframe thead th {\n",
       "        text-align: right;\n",
       "    }\n",
       "</style>\n",
       "<table border=\"1\" class=\"dataframe\">\n",
       "  <thead>\n",
       "    <tr style=\"text-align: right;\">\n",
       "      <th></th>\n",
       "      <th>distance_covered</th>\n",
       "      <th>distance_travelled_percentage</th>\n",
       "    </tr>\n",
       "    <tr>\n",
       "      <th>wheel_based_speed</th>\n",
       "      <th></th>\n",
       "      <th></th>\n",
       "    </tr>\n",
       "  </thead>\n",
       "  <tbody>\n",
       "    <tr>\n",
       "      <th>[0, 10)</th>\n",
       "      <td>7.21</td>\n",
       "      <td>0.011135</td>\n",
       "    </tr>\n",
       "    <tr>\n",
       "      <th>[10, 20)</th>\n",
       "      <td>18.00</td>\n",
       "      <td>0.027800</td>\n",
       "    </tr>\n",
       "    <tr>\n",
       "      <th>[20, 30)</th>\n",
       "      <td>31.94</td>\n",
       "      <td>0.049329</td>\n",
       "    </tr>\n",
       "    <tr>\n",
       "      <th>[30, 40)</th>\n",
       "      <td>88.33</td>\n",
       "      <td>0.136419</td>\n",
       "    </tr>\n",
       "    <tr>\n",
       "      <th>[40, 50)</th>\n",
       "      <td>295.86</td>\n",
       "      <td>0.456934</td>\n",
       "    </tr>\n",
       "    <tr>\n",
       "      <th>[50, 60)</th>\n",
       "      <td>161.74</td>\n",
       "      <td>0.249795</td>\n",
       "    </tr>\n",
       "    <tr>\n",
       "      <th>[60, 70)</th>\n",
       "      <td>33.03</td>\n",
       "      <td>0.051012</td>\n",
       "    </tr>\n",
       "    <tr>\n",
       "      <th>[70, 80)</th>\n",
       "      <td>10.38</td>\n",
       "      <td>0.016031</td>\n",
       "    </tr>\n",
       "    <tr>\n",
       "      <th>[80, 90)</th>\n",
       "      <td>1.00</td>\n",
       "      <td>0.001544</td>\n",
       "    </tr>\n",
       "    <tr>\n",
       "      <th>[90, 100)</th>\n",
       "      <td>0.00</td>\n",
       "      <td>0.000000</td>\n",
       "    </tr>\n",
       "  </tbody>\n",
       "</table>\n",
       "</div>"
      ],
      "text/plain": [
       "                   distance_covered  distance_travelled_percentage\n",
       "wheel_based_speed                                                 \n",
       "[0, 10)                        7.21                       0.011135\n",
       "[10, 20)                      18.00                       0.027800\n",
       "[20, 30)                      31.94                       0.049329\n",
       "[30, 40)                      88.33                       0.136419\n",
       "[40, 50)                     295.86                       0.456934\n",
       "[50, 60)                     161.74                       0.249795\n",
       "[60, 70)                      33.03                       0.051012\n",
       "[70, 80)                      10.38                       0.016031\n",
       "[80, 90)                       1.00                       0.001544\n",
       "[90, 100)                      0.00                       0.000000"
      ]
     },
     "execution_count": 61,
     "metadata": {},
     "output_type": "execute_result"
    }
   ],
   "source": [
    "speed_vs_distance_covered_df"
   ]
  },
  {
   "cell_type": "markdown",
   "id": "604ffc3e",
   "metadata": {},
   "source": [
    "## Pivot for Throttle Vs Distance ##"
   ]
  },
  {
   "cell_type": "code",
   "execution_count": 62,
   "id": "af0ffee8",
   "metadata": {},
   "outputs": [],
   "source": [
    "data_throttle = data[data['engine_speed'] > 0]\n",
    "\n",
    "\n",
    "groups= data_throttle.groupby([pd.cut(data.throttle_position, np.arange(-9, 120, 10))], dropna= False)\n",
    "throttle_vs_distance_covered_df = groups.distance_covered.sum().to_frame()\n",
    "tot_distance = np.sum(throttle_vs_distance_covered_df['distance_covered'])\n",
    "throttle_vs_distance_covered_df['distance_travelled_percentage'] = throttle_vs_distance_covered_df['distance_covered']/tot_distance"
   ]
  },
  {
   "cell_type": "code",
   "execution_count": 63,
   "id": "fef0ebb4",
   "metadata": {},
   "outputs": [
    {
     "data": {
      "text/html": [
       "<div>\n",
       "<style scoped>\n",
       "    .dataframe tbody tr th:only-of-type {\n",
       "        vertical-align: middle;\n",
       "    }\n",
       "\n",
       "    .dataframe tbody tr th {\n",
       "        vertical-align: top;\n",
       "    }\n",
       "\n",
       "    .dataframe thead th {\n",
       "        text-align: right;\n",
       "    }\n",
       "</style>\n",
       "<table border=\"1\" class=\"dataframe\">\n",
       "  <thead>\n",
       "    <tr style=\"text-align: right;\">\n",
       "      <th></th>\n",
       "      <th>distance_covered</th>\n",
       "      <th>distance_travelled_percentage</th>\n",
       "    </tr>\n",
       "    <tr>\n",
       "      <th>throttle_position</th>\n",
       "      <th></th>\n",
       "      <th></th>\n",
       "    </tr>\n",
       "  </thead>\n",
       "  <tbody>\n",
       "    <tr>\n",
       "      <th>(-9, 1]</th>\n",
       "      <td>146.66</td>\n",
       "      <td>0.226505</td>\n",
       "    </tr>\n",
       "    <tr>\n",
       "      <th>(1, 11]</th>\n",
       "      <td>90.22</td>\n",
       "      <td>0.139338</td>\n",
       "    </tr>\n",
       "    <tr>\n",
       "      <th>(11, 21]</th>\n",
       "      <td>100.18</td>\n",
       "      <td>0.154721</td>\n",
       "    </tr>\n",
       "    <tr>\n",
       "      <th>(21, 31]</th>\n",
       "      <td>73.58</td>\n",
       "      <td>0.113639</td>\n",
       "    </tr>\n",
       "    <tr>\n",
       "      <th>(31, 41]</th>\n",
       "      <td>51.13</td>\n",
       "      <td>0.078966</td>\n",
       "    </tr>\n",
       "    <tr>\n",
       "      <th>(41, 51]</th>\n",
       "      <td>36.81</td>\n",
       "      <td>0.056850</td>\n",
       "    </tr>\n",
       "    <tr>\n",
       "      <th>(51, 61]</th>\n",
       "      <td>28.50</td>\n",
       "      <td>0.044016</td>\n",
       "    </tr>\n",
       "    <tr>\n",
       "      <th>(61, 71]</th>\n",
       "      <td>23.08</td>\n",
       "      <td>0.035645</td>\n",
       "    </tr>\n",
       "    <tr>\n",
       "      <th>(71, 81]</th>\n",
       "      <td>34.55</td>\n",
       "      <td>0.053360</td>\n",
       "    </tr>\n",
       "    <tr>\n",
       "      <th>(81, 91]</th>\n",
       "      <td>22.23</td>\n",
       "      <td>0.034333</td>\n",
       "    </tr>\n",
       "    <tr>\n",
       "      <th>(91, 101]</th>\n",
       "      <td>40.55</td>\n",
       "      <td>0.062626</td>\n",
       "    </tr>\n",
       "    <tr>\n",
       "      <th>(101, 111]</th>\n",
       "      <td>0.00</td>\n",
       "      <td>0.000000</td>\n",
       "    </tr>\n",
       "  </tbody>\n",
       "</table>\n",
       "</div>"
      ],
      "text/plain": [
       "                   distance_covered  distance_travelled_percentage\n",
       "throttle_position                                                 \n",
       "(-9, 1]                      146.66                       0.226505\n",
       "(1, 11]                       90.22                       0.139338\n",
       "(11, 21]                     100.18                       0.154721\n",
       "(21, 31]                      73.58                       0.113639\n",
       "(31, 41]                      51.13                       0.078966\n",
       "(41, 51]                      36.81                       0.056850\n",
       "(51, 61]                      28.50                       0.044016\n",
       "(61, 71]                      23.08                       0.035645\n",
       "(71, 81]                      34.55                       0.053360\n",
       "(81, 91]                      22.23                       0.034333\n",
       "(91, 101]                     40.55                       0.062626\n",
       "(101, 111]                     0.00                       0.000000"
      ]
     },
     "execution_count": 63,
     "metadata": {},
     "output_type": "execute_result"
    }
   ],
   "source": [
    "throttle_vs_distance_covered_df"
   ]
  },
  {
   "cell_type": "code",
   "execution_count": 64,
   "id": "16e5a88a",
   "metadata": {},
   "outputs": [
    {
     "data": {
      "text/plain": [
       "647.4899999999907"
      ]
     },
     "execution_count": 64,
     "metadata": {},
     "output_type": "execute_result"
    }
   ],
   "source": [
    "throttle_vs_distance_covered_df['distance_covered'].sum()"
   ]
  },
  {
   "cell_type": "markdown",
   "id": "970bd2e0",
   "metadata": {},
   "source": [
    "## Torque vs Distance Covered ##"
   ]
  },
  {
   "cell_type": "code",
   "execution_count": 65,
   "id": "d1c8fb43",
   "metadata": {},
   "outputs": [],
   "source": [
    "groups= data_throttle.groupby([pd.cut(data.actual_engine_percent_torque, np.arange(-10, 120, 10))], dropna= False)\n",
    "torque_vs_distance_covered_df = groups.distance_covered.sum().to_frame()\n",
    "tot_distance = np.sum(torque_vs_distance_covered_df['distance_covered'])"
   ]
  },
  {
   "cell_type": "code",
   "execution_count": 66,
   "id": "3055c353",
   "metadata": {},
   "outputs": [],
   "source": [
    "torque_vs_distance_covered_df['distance_covered_percent'] = torque_vs_distance_covered_df['distance_covered']/tot_distance"
   ]
  },
  {
   "cell_type": "code",
   "execution_count": 67,
   "id": "124d6493",
   "metadata": {
    "scrolled": true
   },
   "outputs": [
    {
     "data": {
      "text/html": [
       "<div>\n",
       "<style scoped>\n",
       "    .dataframe tbody tr th:only-of-type {\n",
       "        vertical-align: middle;\n",
       "    }\n",
       "\n",
       "    .dataframe tbody tr th {\n",
       "        vertical-align: top;\n",
       "    }\n",
       "\n",
       "    .dataframe thead th {\n",
       "        text-align: right;\n",
       "    }\n",
       "</style>\n",
       "<table border=\"1\" class=\"dataframe\">\n",
       "  <thead>\n",
       "    <tr style=\"text-align: right;\">\n",
       "      <th></th>\n",
       "      <th>distance_covered</th>\n",
       "      <th>distance_covered_percent</th>\n",
       "    </tr>\n",
       "    <tr>\n",
       "      <th>actual_engine_percent_torque</th>\n",
       "      <th></th>\n",
       "      <th></th>\n",
       "    </tr>\n",
       "  </thead>\n",
       "  <tbody>\n",
       "    <tr>\n",
       "      <th>(-10, 0]</th>\n",
       "      <td>86.22</td>\n",
       "      <td>0.133160</td>\n",
       "    </tr>\n",
       "    <tr>\n",
       "      <th>(0, 10]</th>\n",
       "      <td>72.50</td>\n",
       "      <td>0.111971</td>\n",
       "    </tr>\n",
       "    <tr>\n",
       "      <th>(10, 20]</th>\n",
       "      <td>33.10</td>\n",
       "      <td>0.051120</td>\n",
       "    </tr>\n",
       "    <tr>\n",
       "      <th>(20, 30]</th>\n",
       "      <td>72.72</td>\n",
       "      <td>0.112311</td>\n",
       "    </tr>\n",
       "    <tr>\n",
       "      <th>(30, 40]</th>\n",
       "      <td>82.70</td>\n",
       "      <td>0.127724</td>\n",
       "    </tr>\n",
       "    <tr>\n",
       "      <th>(40, 50]</th>\n",
       "      <td>100.51</td>\n",
       "      <td>0.155230</td>\n",
       "    </tr>\n",
       "    <tr>\n",
       "      <th>(50, 60]</th>\n",
       "      <td>88.23</td>\n",
       "      <td>0.136265</td>\n",
       "    </tr>\n",
       "    <tr>\n",
       "      <th>(60, 70]</th>\n",
       "      <td>34.86</td>\n",
       "      <td>0.053839</td>\n",
       "    </tr>\n",
       "    <tr>\n",
       "      <th>(70, 80]</th>\n",
       "      <td>25.42</td>\n",
       "      <td>0.039259</td>\n",
       "    </tr>\n",
       "    <tr>\n",
       "      <th>(80, 90]</th>\n",
       "      <td>22.45</td>\n",
       "      <td>0.034672</td>\n",
       "    </tr>\n",
       "    <tr>\n",
       "      <th>(90, 100]</th>\n",
       "      <td>28.78</td>\n",
       "      <td>0.044449</td>\n",
       "    </tr>\n",
       "    <tr>\n",
       "      <th>(100, 110]</th>\n",
       "      <td>0.00</td>\n",
       "      <td>0.000000</td>\n",
       "    </tr>\n",
       "  </tbody>\n",
       "</table>\n",
       "</div>"
      ],
      "text/plain": [
       "                              distance_covered  distance_covered_percent\n",
       "actual_engine_percent_torque                                            \n",
       "(-10, 0]                                 86.22                  0.133160\n",
       "(0, 10]                                  72.50                  0.111971\n",
       "(10, 20]                                 33.10                  0.051120\n",
       "(20, 30]                                 72.72                  0.112311\n",
       "(30, 40]                                 82.70                  0.127724\n",
       "(40, 50]                                100.51                  0.155230\n",
       "(50, 60]                                 88.23                  0.136265\n",
       "(60, 70]                                 34.86                  0.053839\n",
       "(70, 80]                                 25.42                  0.039259\n",
       "(80, 90]                                 22.45                  0.034672\n",
       "(90, 100]                                28.78                  0.044449\n",
       "(100, 110]                                0.00                  0.000000"
      ]
     },
     "execution_count": 67,
     "metadata": {},
     "output_type": "execute_result"
    }
   ],
   "source": [
    "torque_vs_distance_covered_df"
   ]
  },
  {
   "cell_type": "markdown",
   "id": "0f777872",
   "metadata": {},
   "source": [
    "## Engine Speed vs Distance Covered"
   ]
  },
  {
   "cell_type": "code",
   "execution_count": 68,
   "id": "6509a789",
   "metadata": {},
   "outputs": [],
   "source": [
    "groups= data.groupby([pd.cut(data.engine_speed, np.arange(0, 2600, 200), right = False)], dropna= False)\n",
    "enginespeed_vs_distance_covered_df = groups.distance_covered.sum().to_frame()"
   ]
  },
  {
   "cell_type": "code",
   "execution_count": 69,
   "id": "fad16236",
   "metadata": {},
   "outputs": [],
   "source": [
    "tot_distance = np.sum(enginespeed_vs_distance_covered_df.distance_covered)\n",
    "enginespeed_vs_distance_covered_df['distance_covered_percent'] = enginespeed_vs_distance_covered_df['distance_covered']/tot_distance"
   ]
  },
  {
   "cell_type": "code",
   "execution_count": 70,
   "id": "0033e955",
   "metadata": {},
   "outputs": [
    {
     "data": {
      "text/html": [
       "<div>\n",
       "<style scoped>\n",
       "    .dataframe tbody tr th:only-of-type {\n",
       "        vertical-align: middle;\n",
       "    }\n",
       "\n",
       "    .dataframe tbody tr th {\n",
       "        vertical-align: top;\n",
       "    }\n",
       "\n",
       "    .dataframe thead th {\n",
       "        text-align: right;\n",
       "    }\n",
       "</style>\n",
       "<table border=\"1\" class=\"dataframe\">\n",
       "  <thead>\n",
       "    <tr style=\"text-align: right;\">\n",
       "      <th></th>\n",
       "      <th>distance_covered</th>\n",
       "      <th>distance_covered_percent</th>\n",
       "    </tr>\n",
       "    <tr>\n",
       "      <th>engine_speed</th>\n",
       "      <th></th>\n",
       "      <th></th>\n",
       "    </tr>\n",
       "  </thead>\n",
       "  <tbody>\n",
       "    <tr>\n",
       "      <th>[0, 200)</th>\n",
       "      <td>0.00</td>\n",
       "      <td>0.000000</td>\n",
       "    </tr>\n",
       "    <tr>\n",
       "      <th>[200, 400)</th>\n",
       "      <td>0.00</td>\n",
       "      <td>0.000000</td>\n",
       "    </tr>\n",
       "    <tr>\n",
       "      <th>[400, 600)</th>\n",
       "      <td>1.61</td>\n",
       "      <td>0.002487</td>\n",
       "    </tr>\n",
       "    <tr>\n",
       "      <th>[600, 800)</th>\n",
       "      <td>79.35</td>\n",
       "      <td>0.122550</td>\n",
       "    </tr>\n",
       "    <tr>\n",
       "      <th>[800, 1000)</th>\n",
       "      <td>30.47</td>\n",
       "      <td>0.047059</td>\n",
       "    </tr>\n",
       "    <tr>\n",
       "      <th>[1000, 1200)</th>\n",
       "      <td>146.64</td>\n",
       "      <td>0.226475</td>\n",
       "    </tr>\n",
       "    <tr>\n",
       "      <th>[1200, 1400)</th>\n",
       "      <td>242.37</td>\n",
       "      <td>0.374322</td>\n",
       "    </tr>\n",
       "    <tr>\n",
       "      <th>[1400, 1600)</th>\n",
       "      <td>121.43</td>\n",
       "      <td>0.187540</td>\n",
       "    </tr>\n",
       "    <tr>\n",
       "      <th>[1600, 1800)</th>\n",
       "      <td>22.89</td>\n",
       "      <td>0.035352</td>\n",
       "    </tr>\n",
       "    <tr>\n",
       "      <th>[1800, 2000)</th>\n",
       "      <td>2.48</td>\n",
       "      <td>0.003830</td>\n",
       "    </tr>\n",
       "    <tr>\n",
       "      <th>[2000, 2200)</th>\n",
       "      <td>0.25</td>\n",
       "      <td>0.000386</td>\n",
       "    </tr>\n",
       "    <tr>\n",
       "      <th>[2200, 2400)</th>\n",
       "      <td>0.00</td>\n",
       "      <td>0.000000</td>\n",
       "    </tr>\n",
       "  </tbody>\n",
       "</table>\n",
       "</div>"
      ],
      "text/plain": [
       "              distance_covered  distance_covered_percent\n",
       "engine_speed                                            \n",
       "[0, 200)                  0.00                  0.000000\n",
       "[200, 400)                0.00                  0.000000\n",
       "[400, 600)                1.61                  0.002487\n",
       "[600, 800)               79.35                  0.122550\n",
       "[800, 1000)              30.47                  0.047059\n",
       "[1000, 1200)            146.64                  0.226475\n",
       "[1200, 1400)            242.37                  0.374322\n",
       "[1400, 1600)            121.43                  0.187540\n",
       "[1600, 1800)             22.89                  0.035352\n",
       "[1800, 2000)              2.48                  0.003830\n",
       "[2000, 2200)              0.25                  0.000386\n",
       "[2200, 2400)              0.00                  0.000000"
      ]
     },
     "execution_count": 70,
     "metadata": {},
     "output_type": "execute_result"
    }
   ],
   "source": [
    "enginespeed_vs_distance_covered_df"
   ]
  },
  {
   "cell_type": "markdown",
   "id": "fefb3b9a",
   "metadata": {},
   "source": [
    "## Gear vs Distance Covered"
   ]
  },
  {
   "cell_type": "code",
   "execution_count": 71,
   "id": "a4ffae16",
   "metadata": {},
   "outputs": [
    {
     "data": {
      "text/html": [
       "<div>\n",
       "<style scoped>\n",
       "    .dataframe tbody tr th:only-of-type {\n",
       "        vertical-align: middle;\n",
       "    }\n",
       "\n",
       "    .dataframe tbody tr th {\n",
       "        vertical-align: top;\n",
       "    }\n",
       "\n",
       "    .dataframe thead th {\n",
       "        text-align: right;\n",
       "    }\n",
       "</style>\n",
       "<table border=\"1\" class=\"dataframe\">\n",
       "  <thead>\n",
       "    <tr style=\"text-align: right;\">\n",
       "      <th></th>\n",
       "      <th>distance_covered</th>\n",
       "    </tr>\n",
       "    <tr>\n",
       "      <th>transmission_current_gear</th>\n",
       "      <th></th>\n",
       "    </tr>\n",
       "  </thead>\n",
       "  <tbody>\n",
       "    <tr>\n",
       "      <th>-1.0</th>\n",
       "      <td>0.12</td>\n",
       "    </tr>\n",
       "    <tr>\n",
       "      <th>0.0</th>\n",
       "      <td>65.34</td>\n",
       "    </tr>\n",
       "    <tr>\n",
       "      <th>1.0</th>\n",
       "      <td>0.00</td>\n",
       "    </tr>\n",
       "    <tr>\n",
       "      <th>2.0</th>\n",
       "      <td>2.37</td>\n",
       "    </tr>\n",
       "    <tr>\n",
       "      <th>3.0</th>\n",
       "      <td>10.51</td>\n",
       "    </tr>\n",
       "    <tr>\n",
       "      <th>4.0</th>\n",
       "      <td>26.65</td>\n",
       "    </tr>\n",
       "    <tr>\n",
       "      <th>5.0</th>\n",
       "      <td>40.52</td>\n",
       "    </tr>\n",
       "    <tr>\n",
       "      <th>6.0</th>\n",
       "      <td>500.73</td>\n",
       "    </tr>\n",
       "  </tbody>\n",
       "</table>\n",
       "</div>"
      ],
      "text/plain": [
       "                           distance_covered\n",
       "transmission_current_gear                  \n",
       "-1.0                                   0.12\n",
       " 0.0                                  65.34\n",
       " 1.0                                   0.00\n",
       " 2.0                                   2.37\n",
       " 3.0                                  10.51\n",
       " 4.0                                  26.65\n",
       " 5.0                                  40.52\n",
       " 6.0                                 500.73"
      ]
     },
     "execution_count": 71,
     "metadata": {},
     "output_type": "execute_result"
    }
   ],
   "source": [
    "groups = data[data['wheel_based_speed']>5].groupby(by = 'transmission_current_gear', dropna = True)\n",
    "gear_vs_distance_covered_df = groups.distance_covered.sum().to_frame()\n",
    "gear_vs_distance_covered_df"
   ]
  },
  {
   "cell_type": "code",
   "execution_count": 72,
   "id": "cbbfadc0",
   "metadata": {},
   "outputs": [],
   "source": [
    "tot_distance = np.sum(gear_vs_distance_covered_df['distance_covered'])\n",
    "gear_vs_distance_covered_df['distance_covered_percent'] = gear_vs_distance_covered_df['distance_covered']/tot_distance"
   ]
  },
  {
   "cell_type": "code",
   "execution_count": 73,
   "id": "fd042590",
   "metadata": {},
   "outputs": [
    {
     "data": {
      "text/html": [
       "<div>\n",
       "<style scoped>\n",
       "    .dataframe tbody tr th:only-of-type {\n",
       "        vertical-align: middle;\n",
       "    }\n",
       "\n",
       "    .dataframe tbody tr th {\n",
       "        vertical-align: top;\n",
       "    }\n",
       "\n",
       "    .dataframe thead th {\n",
       "        text-align: right;\n",
       "    }\n",
       "</style>\n",
       "<table border=\"1\" class=\"dataframe\">\n",
       "  <thead>\n",
       "    <tr style=\"text-align: right;\">\n",
       "      <th></th>\n",
       "      <th>distance_covered</th>\n",
       "      <th>distance_covered_percent</th>\n",
       "    </tr>\n",
       "    <tr>\n",
       "      <th>transmission_current_gear</th>\n",
       "      <th></th>\n",
       "      <th></th>\n",
       "    </tr>\n",
       "  </thead>\n",
       "  <tbody>\n",
       "    <tr>\n",
       "      <th>-1.0</th>\n",
       "      <td>0.12</td>\n",
       "      <td>0.000186</td>\n",
       "    </tr>\n",
       "    <tr>\n",
       "      <th>0.0</th>\n",
       "      <td>65.34</td>\n",
       "      <td>0.101108</td>\n",
       "    </tr>\n",
       "    <tr>\n",
       "      <th>1.0</th>\n",
       "      <td>0.00</td>\n",
       "      <td>0.000000</td>\n",
       "    </tr>\n",
       "    <tr>\n",
       "      <th>2.0</th>\n",
       "      <td>2.37</td>\n",
       "      <td>0.003667</td>\n",
       "    </tr>\n",
       "    <tr>\n",
       "      <th>3.0</th>\n",
       "      <td>10.51</td>\n",
       "      <td>0.016263</td>\n",
       "    </tr>\n",
       "    <tr>\n",
       "      <th>4.0</th>\n",
       "      <td>26.65</td>\n",
       "      <td>0.041239</td>\n",
       "    </tr>\n",
       "    <tr>\n",
       "      <th>5.0</th>\n",
       "      <td>40.52</td>\n",
       "      <td>0.062701</td>\n",
       "    </tr>\n",
       "    <tr>\n",
       "      <th>6.0</th>\n",
       "      <td>500.73</td>\n",
       "      <td>0.774836</td>\n",
       "    </tr>\n",
       "  </tbody>\n",
       "</table>\n",
       "</div>"
      ],
      "text/plain": [
       "                           distance_covered  distance_covered_percent\n",
       "transmission_current_gear                                            \n",
       "-1.0                                   0.12                  0.000186\n",
       " 0.0                                  65.34                  0.101108\n",
       " 1.0                                   0.00                  0.000000\n",
       " 2.0                                   2.37                  0.003667\n",
       " 3.0                                  10.51                  0.016263\n",
       " 4.0                                  26.65                  0.041239\n",
       " 5.0                                  40.52                  0.062701\n",
       " 6.0                                 500.73                  0.774836"
      ]
     },
     "execution_count": 73,
     "metadata": {},
     "output_type": "execute_result"
    }
   ],
   "source": [
    "gear_vs_distance_covered_df"
   ]
  },
  {
   "cell_type": "code",
   "execution_count": 74,
   "id": "66a2feba",
   "metadata": {},
   "outputs": [],
   "source": [
    "table_dict = {}"
   ]
  },
  {
   "cell_type": "code",
   "execution_count": 75,
   "id": "78bf4dad",
   "metadata": {},
   "outputs": [],
   "source": [
    "table_dict[\"Distance travelled(ECU Distance)\"] = distance_travelled_ecu_odo\n",
    "table_dict[\"Distance travelled (Vehicle odometer)\"] = distance_travelled_vehicle_odo\n",
    "table_dict[\"Fuel Consumption\"]= Fuel_consumption\n",
    "table_dict[\"KMPL ECU distance\"] = Fuel_consumption/distance_travelled_ecu_odo\n",
    "table_dict[\"KMPL Vehicle ODO\"] = Fuel_consumption/distance_travelled_vehicle_odo\n",
    "table_dict[\"Total hours\"] = total_active_hours\n",
    "table_dict[\"Total running hours\"] = total_running_hours\n",
    "table_dict[\"Total idling hours\"] = total_idling_hours\n",
    "table_dict[\"Halt time\"] = halt_hours\n",
    "table_dict[\"Running percentage\"] = running_percentage\n",
    "table_dict[\"Idling percentage\"] = idling_percentage * 100\n",
    "table_dict[\"Average Speed\"] = average_speed"
   ]
  },
  {
   "cell_type": "code",
   "execution_count": 76,
   "id": "ed38fcfe",
   "metadata": {},
   "outputs": [],
   "source": [
    "pd.DataFrame.from_dict(table_dict, orient ='index').to_excel(\"vitals.xlsx\")"
   ]
  },
  {
   "cell_type": "code",
   "execution_count": 77,
   "id": "d4eb1323",
   "metadata": {},
   "outputs": [
    {
     "data": {
      "text/plain": [
       "{'Distance travelled(ECU Distance)': 623.8699999999953,\n",
       " 'Distance travelled (Vehicle odometer)': 647.7399999999907,\n",
       " 'Fuel Consumption': 128.5,\n",
       " 'KMPL ECU distance': 0.20597239809575868,\n",
       " 'KMPL Vehicle ODO': 0.19838206687868876,\n",
       " 'Total hours': 18.516666666666666,\n",
       " 'Total running hours': 15.333333333333334,\n",
       " 'Total idling hours': 1.8933333333333333,\n",
       " 'Halt time': 3678.773333333333,\n",
       " 'Running percentage': 82.80828082808281,\n",
       " 'Idling percentage': 1022.5022502250224,\n",
       " 'Average Speed': 34.98145814581408}"
      ]
     },
     "execution_count": 77,
     "metadata": {},
     "output_type": "execute_result"
    }
   ],
   "source": [
    "table_dict"
   ]
  },
  {
   "cell_type": "code",
   "execution_count": null,
   "id": "37c51fe7",
   "metadata": {},
   "outputs": [],
   "source": []
  }
 ],
 "metadata": {
  "kernelspec": {
   "display_name": "Python 3 (ipykernel)",
   "language": "python",
   "name": "python3"
  },
  "language_info": {
   "codemirror_mode": {
    "name": "ipython",
    "version": 3
   },
   "file_extension": ".py",
   "mimetype": "text/x-python",
   "name": "python",
   "nbconvert_exporter": "python",
   "pygments_lexer": "ipython3",
   "version": "3.9.13"
  }
 },
 "nbformat": 4,
 "nbformat_minor": 5
}
