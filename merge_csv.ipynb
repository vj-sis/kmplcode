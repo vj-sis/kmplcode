{
 "cells": [
  {
   "cell_type": "code",
   "execution_count": 1,
   "id": "fa97d5f0",
   "metadata": {},
   "outputs": [],
   "source": [
    "#import fileinput\n",
    "#import select_files\n",
    "import os\n",
    "import pandas as pd\n",
    "import numpy as np"
   ]
  },
  {
   "cell_type": "code",
   "execution_count": 2,
   "id": "6ae09878",
   "metadata": {},
   "outputs": [],
   "source": [
    "#takes a dictionary and file name and genates dictionary like {\"MBXXXXXX\":[\"MBXXXXX_file1.csv\", \"MBXXXXX_file2.csv\"]\n",
    "def create_file_dict(file_dict, filename):\n",
    "    name_split = filename.split(\"_\")\n",
    "    if name_split[0] in file_dict.keys():\n",
    "        file_dict[name_split[0]].append(filename) \n",
    "    else:\n",
    "        file_dict[name_split[0]] = [filename]             "
   ]
  },
  {
   "cell_type": "code",
   "execution_count": 3,
   "id": "d86a88e7",
   "metadata": {},
   "outputs": [],
   "source": [
    "#Creating dictionary of file names in the format of {\"MBXXXXXX\":[\"MBXXXXX_file1.csv\", \"MBXXXXX_file2.csv\"]}\n",
    "#example {'MB1CWKHD2LPAL6794': ['MB1CWKHD2LPAL6794_2022-12-5_2022-12-06.csv',\n",
    "# 'MB1CWKHD2LPAL6794_2022-12-7_2022-12-08.csv',\n",
    "# 'MB1CWKHD2LPAL6794_2022-12-9_2022-12-10.csv'],\n",
    "\n",
    "file_names = os.listdir()\n",
    "file_dict = {}\n",
    "for file in file_names:\n",
    "    if (file[-3:] == \"csv\"):\n",
    "        create_file_dict(file_dict, file)"
   ]
  },
  {
   "cell_type": "code",
   "execution_count": 4,
   "id": "0f283316",
   "metadata": {},
   "outputs": [],
   "source": [
    "#reading all the csv files based on dictionary generated\n",
    "file_df_dict = {}\n",
    "for file in file_dict:\n",
    "    data_df_list= []\n",
    "    for filename in file_dict[file]:\n",
    "        data_df_list.append(pd.read_csv(filename))\n",
    "    file_df_dict[file] = data_df_list"
   ]
  },
  {
   "cell_type": "code",
   "execution_count": 5,
   "id": "acc8a49d",
   "metadata": {},
   "outputs": [],
   "source": [
    "#mergins and saving the files as excel with suffice \"_input\"\n",
    "for group in file_df_dict:\n",
    "    result_data_df = pd.concat(file_df_dict[group])\n",
    "    result_data_df.to_csv(group+'_input.csv')"
   ]
  },
  {
   "cell_type": "code",
   "execution_count": null,
   "id": "4a76f247",
   "metadata": {},
   "outputs": [],
   "source": []
  }
 ],
 "metadata": {
  "kernelspec": {
   "display_name": "Python 3 (ipykernel)",
   "language": "python",
   "name": "python3"
  },
  "language_info": {
   "codemirror_mode": {
    "name": "ipython",
    "version": 3
   },
   "file_extension": ".py",
   "mimetype": "text/x-python",
   "name": "python",
   "nbconvert_exporter": "python",
   "pygments_lexer": "ipython3",
   "version": "3.9.13"
  }
 },
 "nbformat": 4,
 "nbformat_minor": 5
}
